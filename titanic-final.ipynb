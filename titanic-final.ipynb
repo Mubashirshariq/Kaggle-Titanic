{
 "cells": [
  {
   "cell_type": "code",
   "execution_count": 1,
   "id": "43877de2",
   "metadata": {
    "_cell_guid": "b1076dfc-b9ad-4769-8c92-a6c4dae69d19",
    "_uuid": "8f2839f25d086af736a60e9eeb907d3b93b6e0e5",
    "execution": {
     "iopub.execute_input": "2023-04-01T19:21:21.151533Z",
     "iopub.status.busy": "2023-04-01T19:21:21.150179Z",
     "iopub.status.idle": "2023-04-01T19:21:21.168348Z",
     "shell.execute_reply": "2023-04-01T19:21:21.167452Z"
    },
    "papermill": {
     "duration": 0.031656,
     "end_time": "2023-04-01T19:21:21.171008",
     "exception": false,
     "start_time": "2023-04-01T19:21:21.139352",
     "status": "completed"
    },
    "tags": []
   },
   "outputs": [
    {
     "name": "stdout",
     "output_type": "stream",
     "text": [
      "/kaggle/input/titanic/train.csv\n",
      "/kaggle/input/titanic/test.csv\n",
      "/kaggle/input/titanic/gender_submission.csv\n"
     ]
    }
   ],
   "source": [
    "# This Python 3 environment comes with many helpful analytics libraries installed\n",
    "# It is defined by the kaggle/python Docker image: https://github.com/kaggle/docker-python\n",
    "# For example, here's several helpful packages to load\n",
    "\n",
    "import numpy as np # linear algebra\n",
    "import pandas as pd # data processing, CSV file I/O (e.g. pd.read_csv)\n",
    "\n",
    "# Input data files are available in the read-only \"../input/\" directory\n",
    "# For example, running this (by clicking run or pressing Shift+Enter) will list all files under the input directory\n",
    "\n",
    "import os\n",
    "for dirname, _, filenames in os.walk('/kaggle/input'):\n",
    "    for filename in filenames:\n",
    "        print(os.path.join(dirname, filename))\n",
    "\n",
    "# You can write up to 20GB to the current directory (/kaggle/working/) that gets preserved as output when you create a version using \"Save & Run All\" \n",
    "# You can also write temporary files to /kaggle/temp/, but they won't be saved outside of the current session"
   ]
  },
  {
   "cell_type": "code",
   "execution_count": 2,
   "id": "bf1fc04f",
   "metadata": {
    "execution": {
     "iopub.execute_input": "2023-04-01T19:21:21.184653Z",
     "iopub.status.busy": "2023-04-01T19:21:21.184142Z",
     "iopub.status.idle": "2023-04-01T19:21:21.211795Z",
     "shell.execute_reply": "2023-04-01T19:21:21.210805Z"
    },
    "papermill": {
     "duration": 0.03769,
     "end_time": "2023-04-01T19:21:21.214521",
     "exception": false,
     "start_time": "2023-04-01T19:21:21.176831",
     "status": "completed"
    },
    "tags": []
   },
   "outputs": [],
   "source": [
    "df=pd.read_csv('/kaggle/input/titanic/train.csv')\n",
    "x_test=pd.read_csv('/kaggle/input/titanic/test.csv')"
   ]
  },
  {
   "cell_type": "code",
   "execution_count": 3,
   "id": "9183c9b6",
   "metadata": {
    "execution": {
     "iopub.execute_input": "2023-04-01T19:21:21.228546Z",
     "iopub.status.busy": "2023-04-01T19:21:21.227699Z",
     "iopub.status.idle": "2023-04-01T19:21:21.259655Z",
     "shell.execute_reply": "2023-04-01T19:21:21.258688Z"
    },
    "papermill": {
     "duration": 0.041638,
     "end_time": "2023-04-01T19:21:21.262153",
     "exception": false,
     "start_time": "2023-04-01T19:21:21.220515",
     "status": "completed"
    },
    "tags": []
   },
   "outputs": [
    {
     "data": {
      "text/html": [
       "<div>\n",
       "<style scoped>\n",
       "    .dataframe tbody tr th:only-of-type {\n",
       "        vertical-align: middle;\n",
       "    }\n",
       "\n",
       "    .dataframe tbody tr th {\n",
       "        vertical-align: top;\n",
       "    }\n",
       "\n",
       "    .dataframe thead th {\n",
       "        text-align: right;\n",
       "    }\n",
       "</style>\n",
       "<table border=\"1\" class=\"dataframe\">\n",
       "  <thead>\n",
       "    <tr style=\"text-align: right;\">\n",
       "      <th></th>\n",
       "      <th>PassengerId</th>\n",
       "      <th>Pclass</th>\n",
       "      <th>Name</th>\n",
       "      <th>Sex</th>\n",
       "      <th>Age</th>\n",
       "      <th>SibSp</th>\n",
       "      <th>Parch</th>\n",
       "      <th>Ticket</th>\n",
       "      <th>Fare</th>\n",
       "      <th>Cabin</th>\n",
       "      <th>Embarked</th>\n",
       "    </tr>\n",
       "  </thead>\n",
       "  <tbody>\n",
       "    <tr>\n",
       "      <th>0</th>\n",
       "      <td>892</td>\n",
       "      <td>3</td>\n",
       "      <td>Kelly, Mr. James</td>\n",
       "      <td>male</td>\n",
       "      <td>34.5</td>\n",
       "      <td>0</td>\n",
       "      <td>0</td>\n",
       "      <td>330911</td>\n",
       "      <td>7.8292</td>\n",
       "      <td>NaN</td>\n",
       "      <td>Q</td>\n",
       "    </tr>\n",
       "    <tr>\n",
       "      <th>1</th>\n",
       "      <td>893</td>\n",
       "      <td>3</td>\n",
       "      <td>Wilkes, Mrs. James (Ellen Needs)</td>\n",
       "      <td>female</td>\n",
       "      <td>47.0</td>\n",
       "      <td>1</td>\n",
       "      <td>0</td>\n",
       "      <td>363272</td>\n",
       "      <td>7.0000</td>\n",
       "      <td>NaN</td>\n",
       "      <td>S</td>\n",
       "    </tr>\n",
       "    <tr>\n",
       "      <th>2</th>\n",
       "      <td>894</td>\n",
       "      <td>2</td>\n",
       "      <td>Myles, Mr. Thomas Francis</td>\n",
       "      <td>male</td>\n",
       "      <td>62.0</td>\n",
       "      <td>0</td>\n",
       "      <td>0</td>\n",
       "      <td>240276</td>\n",
       "      <td>9.6875</td>\n",
       "      <td>NaN</td>\n",
       "      <td>Q</td>\n",
       "    </tr>\n",
       "    <tr>\n",
       "      <th>3</th>\n",
       "      <td>895</td>\n",
       "      <td>3</td>\n",
       "      <td>Wirz, Mr. Albert</td>\n",
       "      <td>male</td>\n",
       "      <td>27.0</td>\n",
       "      <td>0</td>\n",
       "      <td>0</td>\n",
       "      <td>315154</td>\n",
       "      <td>8.6625</td>\n",
       "      <td>NaN</td>\n",
       "      <td>S</td>\n",
       "    </tr>\n",
       "    <tr>\n",
       "      <th>4</th>\n",
       "      <td>896</td>\n",
       "      <td>3</td>\n",
       "      <td>Hirvonen, Mrs. Alexander (Helga E Lindqvist)</td>\n",
       "      <td>female</td>\n",
       "      <td>22.0</td>\n",
       "      <td>1</td>\n",
       "      <td>1</td>\n",
       "      <td>3101298</td>\n",
       "      <td>12.2875</td>\n",
       "      <td>NaN</td>\n",
       "      <td>S</td>\n",
       "    </tr>\n",
       "  </tbody>\n",
       "</table>\n",
       "</div>"
      ],
      "text/plain": [
       "   PassengerId  Pclass                                          Name     Sex  \\\n",
       "0          892       3                              Kelly, Mr. James    male   \n",
       "1          893       3              Wilkes, Mrs. James (Ellen Needs)  female   \n",
       "2          894       2                     Myles, Mr. Thomas Francis    male   \n",
       "3          895       3                              Wirz, Mr. Albert    male   \n",
       "4          896       3  Hirvonen, Mrs. Alexander (Helga E Lindqvist)  female   \n",
       "\n",
       "    Age  SibSp  Parch   Ticket     Fare Cabin Embarked  \n",
       "0  34.5      0      0   330911   7.8292   NaN        Q  \n",
       "1  47.0      1      0   363272   7.0000   NaN        S  \n",
       "2  62.0      0      0   240276   9.6875   NaN        Q  \n",
       "3  27.0      0      0   315154   8.6625   NaN        S  \n",
       "4  22.0      1      1  3101298  12.2875   NaN        S  "
      ]
     },
     "execution_count": 3,
     "metadata": {},
     "output_type": "execute_result"
    }
   ],
   "source": [
    "x_test.head()"
   ]
  },
  {
   "cell_type": "code",
   "execution_count": 4,
   "id": "9c02429a",
   "metadata": {
    "execution": {
     "iopub.execute_input": "2023-04-01T19:21:21.276768Z",
     "iopub.status.busy": "2023-04-01T19:21:21.276017Z",
     "iopub.status.idle": "2023-04-01T19:21:21.292608Z",
     "shell.execute_reply": "2023-04-01T19:21:21.291362Z"
    },
    "papermill": {
     "duration": 0.02679,
     "end_time": "2023-04-01T19:21:21.295205",
     "exception": false,
     "start_time": "2023-04-01T19:21:21.268415",
     "status": "completed"
    },
    "tags": []
   },
   "outputs": [
    {
     "data": {
      "text/html": [
       "<div>\n",
       "<style scoped>\n",
       "    .dataframe tbody tr th:only-of-type {\n",
       "        vertical-align: middle;\n",
       "    }\n",
       "\n",
       "    .dataframe tbody tr th {\n",
       "        vertical-align: top;\n",
       "    }\n",
       "\n",
       "    .dataframe thead th {\n",
       "        text-align: right;\n",
       "    }\n",
       "</style>\n",
       "<table border=\"1\" class=\"dataframe\">\n",
       "  <thead>\n",
       "    <tr style=\"text-align: right;\">\n",
       "      <th></th>\n",
       "      <th>PassengerId</th>\n",
       "      <th>Survived</th>\n",
       "      <th>Pclass</th>\n",
       "      <th>Name</th>\n",
       "      <th>Sex</th>\n",
       "      <th>Age</th>\n",
       "      <th>SibSp</th>\n",
       "      <th>Parch</th>\n",
       "      <th>Ticket</th>\n",
       "      <th>Fare</th>\n",
       "      <th>Cabin</th>\n",
       "      <th>Embarked</th>\n",
       "    </tr>\n",
       "  </thead>\n",
       "  <tbody>\n",
       "    <tr>\n",
       "      <th>0</th>\n",
       "      <td>1</td>\n",
       "      <td>0</td>\n",
       "      <td>3</td>\n",
       "      <td>Braund, Mr. Owen Harris</td>\n",
       "      <td>male</td>\n",
       "      <td>22.0</td>\n",
       "      <td>1</td>\n",
       "      <td>0</td>\n",
       "      <td>A/5 21171</td>\n",
       "      <td>7.2500</td>\n",
       "      <td>NaN</td>\n",
       "      <td>S</td>\n",
       "    </tr>\n",
       "    <tr>\n",
       "      <th>1</th>\n",
       "      <td>2</td>\n",
       "      <td>1</td>\n",
       "      <td>1</td>\n",
       "      <td>Cumings, Mrs. John Bradley (Florence Briggs Th...</td>\n",
       "      <td>female</td>\n",
       "      <td>38.0</td>\n",
       "      <td>1</td>\n",
       "      <td>0</td>\n",
       "      <td>PC 17599</td>\n",
       "      <td>71.2833</td>\n",
       "      <td>C85</td>\n",
       "      <td>C</td>\n",
       "    </tr>\n",
       "    <tr>\n",
       "      <th>2</th>\n",
       "      <td>3</td>\n",
       "      <td>1</td>\n",
       "      <td>3</td>\n",
       "      <td>Heikkinen, Miss. Laina</td>\n",
       "      <td>female</td>\n",
       "      <td>26.0</td>\n",
       "      <td>0</td>\n",
       "      <td>0</td>\n",
       "      <td>STON/O2. 3101282</td>\n",
       "      <td>7.9250</td>\n",
       "      <td>NaN</td>\n",
       "      <td>S</td>\n",
       "    </tr>\n",
       "    <tr>\n",
       "      <th>3</th>\n",
       "      <td>4</td>\n",
       "      <td>1</td>\n",
       "      <td>1</td>\n",
       "      <td>Futrelle, Mrs. Jacques Heath (Lily May Peel)</td>\n",
       "      <td>female</td>\n",
       "      <td>35.0</td>\n",
       "      <td>1</td>\n",
       "      <td>0</td>\n",
       "      <td>113803</td>\n",
       "      <td>53.1000</td>\n",
       "      <td>C123</td>\n",
       "      <td>S</td>\n",
       "    </tr>\n",
       "    <tr>\n",
       "      <th>4</th>\n",
       "      <td>5</td>\n",
       "      <td>0</td>\n",
       "      <td>3</td>\n",
       "      <td>Allen, Mr. William Henry</td>\n",
       "      <td>male</td>\n",
       "      <td>35.0</td>\n",
       "      <td>0</td>\n",
       "      <td>0</td>\n",
       "      <td>373450</td>\n",
       "      <td>8.0500</td>\n",
       "      <td>NaN</td>\n",
       "      <td>S</td>\n",
       "    </tr>\n",
       "  </tbody>\n",
       "</table>\n",
       "</div>"
      ],
      "text/plain": [
       "   PassengerId  Survived  Pclass  \\\n",
       "0            1         0       3   \n",
       "1            2         1       1   \n",
       "2            3         1       3   \n",
       "3            4         1       1   \n",
       "4            5         0       3   \n",
       "\n",
       "                                                Name     Sex   Age  SibSp  \\\n",
       "0                            Braund, Mr. Owen Harris    male  22.0      1   \n",
       "1  Cumings, Mrs. John Bradley (Florence Briggs Th...  female  38.0      1   \n",
       "2                             Heikkinen, Miss. Laina  female  26.0      0   \n",
       "3       Futrelle, Mrs. Jacques Heath (Lily May Peel)  female  35.0      1   \n",
       "4                           Allen, Mr. William Henry    male  35.0      0   \n",
       "\n",
       "   Parch            Ticket     Fare Cabin Embarked  \n",
       "0      0         A/5 21171   7.2500   NaN        S  \n",
       "1      0          PC 17599  71.2833   C85        C  \n",
       "2      0  STON/O2. 3101282   7.9250   NaN        S  \n",
       "3      0            113803  53.1000  C123        S  \n",
       "4      0            373450   8.0500   NaN        S  "
      ]
     },
     "execution_count": 4,
     "metadata": {},
     "output_type": "execute_result"
    }
   ],
   "source": [
    "df.head()"
   ]
  },
  {
   "cell_type": "code",
   "execution_count": 5,
   "id": "24cdeae2",
   "metadata": {
    "execution": {
     "iopub.execute_input": "2023-04-01T19:21:21.310330Z",
     "iopub.status.busy": "2023-04-01T19:21:21.309889Z",
     "iopub.status.idle": "2023-04-01T19:21:21.320788Z",
     "shell.execute_reply": "2023-04-01T19:21:21.319711Z"
    },
    "papermill": {
     "duration": 0.022152,
     "end_time": "2023-04-01T19:21:21.323903",
     "exception": false,
     "start_time": "2023-04-01T19:21:21.301751",
     "status": "completed"
    },
    "tags": []
   },
   "outputs": [],
   "source": [
    "df=df.drop(['Cabin','Name','Ticket','PassengerId'],axis=1)\n",
    "x_test=x_test.drop(['Embarked','Cabin','Name','Ticket','PassengerId'],axis=1)"
   ]
  },
  {
   "cell_type": "code",
   "execution_count": 6,
   "id": "409259e9",
   "metadata": {
    "execution": {
     "iopub.execute_input": "2023-04-01T19:21:21.338058Z",
     "iopub.status.busy": "2023-04-01T19:21:21.337626Z",
     "iopub.status.idle": "2023-04-01T19:21:21.352582Z",
     "shell.execute_reply": "2023-04-01T19:21:21.351206Z"
    },
    "papermill": {
     "duration": 0.025117,
     "end_time": "2023-04-01T19:21:21.355173",
     "exception": false,
     "start_time": "2023-04-01T19:21:21.330056",
     "status": "completed"
    },
    "tags": []
   },
   "outputs": [
    {
     "data": {
      "text/html": [
       "<div>\n",
       "<style scoped>\n",
       "    .dataframe tbody tr th:only-of-type {\n",
       "        vertical-align: middle;\n",
       "    }\n",
       "\n",
       "    .dataframe tbody tr th {\n",
       "        vertical-align: top;\n",
       "    }\n",
       "\n",
       "    .dataframe thead th {\n",
       "        text-align: right;\n",
       "    }\n",
       "</style>\n",
       "<table border=\"1\" class=\"dataframe\">\n",
       "  <thead>\n",
       "    <tr style=\"text-align: right;\">\n",
       "      <th></th>\n",
       "      <th>Survived</th>\n",
       "      <th>Pclass</th>\n",
       "      <th>Sex</th>\n",
       "      <th>Age</th>\n",
       "      <th>SibSp</th>\n",
       "      <th>Parch</th>\n",
       "      <th>Fare</th>\n",
       "      <th>Embarked</th>\n",
       "    </tr>\n",
       "  </thead>\n",
       "  <tbody>\n",
       "    <tr>\n",
       "      <th>0</th>\n",
       "      <td>0</td>\n",
       "      <td>3</td>\n",
       "      <td>male</td>\n",
       "      <td>22.0</td>\n",
       "      <td>1</td>\n",
       "      <td>0</td>\n",
       "      <td>7.2500</td>\n",
       "      <td>S</td>\n",
       "    </tr>\n",
       "    <tr>\n",
       "      <th>1</th>\n",
       "      <td>1</td>\n",
       "      <td>1</td>\n",
       "      <td>female</td>\n",
       "      <td>38.0</td>\n",
       "      <td>1</td>\n",
       "      <td>0</td>\n",
       "      <td>71.2833</td>\n",
       "      <td>C</td>\n",
       "    </tr>\n",
       "    <tr>\n",
       "      <th>2</th>\n",
       "      <td>1</td>\n",
       "      <td>3</td>\n",
       "      <td>female</td>\n",
       "      <td>26.0</td>\n",
       "      <td>0</td>\n",
       "      <td>0</td>\n",
       "      <td>7.9250</td>\n",
       "      <td>S</td>\n",
       "    </tr>\n",
       "    <tr>\n",
       "      <th>3</th>\n",
       "      <td>1</td>\n",
       "      <td>1</td>\n",
       "      <td>female</td>\n",
       "      <td>35.0</td>\n",
       "      <td>1</td>\n",
       "      <td>0</td>\n",
       "      <td>53.1000</td>\n",
       "      <td>S</td>\n",
       "    </tr>\n",
       "    <tr>\n",
       "      <th>4</th>\n",
       "      <td>0</td>\n",
       "      <td>3</td>\n",
       "      <td>male</td>\n",
       "      <td>35.0</td>\n",
       "      <td>0</td>\n",
       "      <td>0</td>\n",
       "      <td>8.0500</td>\n",
       "      <td>S</td>\n",
       "    </tr>\n",
       "  </tbody>\n",
       "</table>\n",
       "</div>"
      ],
      "text/plain": [
       "   Survived  Pclass     Sex   Age  SibSp  Parch     Fare Embarked\n",
       "0         0       3    male  22.0      1      0   7.2500        S\n",
       "1         1       1  female  38.0      1      0  71.2833        C\n",
       "2         1       3  female  26.0      0      0   7.9250        S\n",
       "3         1       1  female  35.0      1      0  53.1000        S\n",
       "4         0       3    male  35.0      0      0   8.0500        S"
      ]
     },
     "execution_count": 6,
     "metadata": {},
     "output_type": "execute_result"
    }
   ],
   "source": [
    "df.head()"
   ]
  },
  {
   "cell_type": "code",
   "execution_count": 7,
   "id": "0c9d3e67",
   "metadata": {
    "execution": {
     "iopub.execute_input": "2023-04-01T19:21:21.370328Z",
     "iopub.status.busy": "2023-04-01T19:21:21.369464Z",
     "iopub.status.idle": "2023-04-01T19:21:21.383520Z",
     "shell.execute_reply": "2023-04-01T19:21:21.382439Z"
    },
    "papermill": {
     "duration": 0.0246,
     "end_time": "2023-04-01T19:21:21.386178",
     "exception": false,
     "start_time": "2023-04-01T19:21:21.361578",
     "status": "completed"
    },
    "tags": []
   },
   "outputs": [
    {
     "data": {
      "text/html": [
       "<div>\n",
       "<style scoped>\n",
       "    .dataframe tbody tr th:only-of-type {\n",
       "        vertical-align: middle;\n",
       "    }\n",
       "\n",
       "    .dataframe tbody tr th {\n",
       "        vertical-align: top;\n",
       "    }\n",
       "\n",
       "    .dataframe thead th {\n",
       "        text-align: right;\n",
       "    }\n",
       "</style>\n",
       "<table border=\"1\" class=\"dataframe\">\n",
       "  <thead>\n",
       "    <tr style=\"text-align: right;\">\n",
       "      <th></th>\n",
       "      <th>Pclass</th>\n",
       "      <th>Sex</th>\n",
       "      <th>Age</th>\n",
       "      <th>SibSp</th>\n",
       "      <th>Parch</th>\n",
       "      <th>Fare</th>\n",
       "    </tr>\n",
       "  </thead>\n",
       "  <tbody>\n",
       "    <tr>\n",
       "      <th>0</th>\n",
       "      <td>3</td>\n",
       "      <td>male</td>\n",
       "      <td>34.5</td>\n",
       "      <td>0</td>\n",
       "      <td>0</td>\n",
       "      <td>7.8292</td>\n",
       "    </tr>\n",
       "    <tr>\n",
       "      <th>1</th>\n",
       "      <td>3</td>\n",
       "      <td>female</td>\n",
       "      <td>47.0</td>\n",
       "      <td>1</td>\n",
       "      <td>0</td>\n",
       "      <td>7.0000</td>\n",
       "    </tr>\n",
       "    <tr>\n",
       "      <th>2</th>\n",
       "      <td>2</td>\n",
       "      <td>male</td>\n",
       "      <td>62.0</td>\n",
       "      <td>0</td>\n",
       "      <td>0</td>\n",
       "      <td>9.6875</td>\n",
       "    </tr>\n",
       "    <tr>\n",
       "      <th>3</th>\n",
       "      <td>3</td>\n",
       "      <td>male</td>\n",
       "      <td>27.0</td>\n",
       "      <td>0</td>\n",
       "      <td>0</td>\n",
       "      <td>8.6625</td>\n",
       "    </tr>\n",
       "    <tr>\n",
       "      <th>4</th>\n",
       "      <td>3</td>\n",
       "      <td>female</td>\n",
       "      <td>22.0</td>\n",
       "      <td>1</td>\n",
       "      <td>1</td>\n",
       "      <td>12.2875</td>\n",
       "    </tr>\n",
       "  </tbody>\n",
       "</table>\n",
       "</div>"
      ],
      "text/plain": [
       "   Pclass     Sex   Age  SibSp  Parch     Fare\n",
       "0       3    male  34.5      0      0   7.8292\n",
       "1       3  female  47.0      1      0   7.0000\n",
       "2       2    male  62.0      0      0   9.6875\n",
       "3       3    male  27.0      0      0   8.6625\n",
       "4       3  female  22.0      1      1  12.2875"
      ]
     },
     "execution_count": 7,
     "metadata": {},
     "output_type": "execute_result"
    }
   ],
   "source": [
    "x_test.head()"
   ]
  },
  {
   "cell_type": "code",
   "execution_count": 8,
   "id": "a903bf24",
   "metadata": {
    "execution": {
     "iopub.execute_input": "2023-04-01T19:21:21.401343Z",
     "iopub.status.busy": "2023-04-01T19:21:21.400909Z",
     "iopub.status.idle": "2023-04-01T19:21:21.408947Z",
     "shell.execute_reply": "2023-04-01T19:21:21.407541Z"
    },
    "papermill": {
     "duration": 0.018652,
     "end_time": "2023-04-01T19:21:21.411505",
     "exception": false,
     "start_time": "2023-04-01T19:21:21.392853",
     "status": "completed"
    },
    "tags": []
   },
   "outputs": [],
   "source": [
    "X=df.iloc[:,1:-1].values\n",
    "y=df.iloc[:,0].values"
   ]
  },
  {
   "cell_type": "code",
   "execution_count": 9,
   "id": "97461035",
   "metadata": {
    "execution": {
     "iopub.execute_input": "2023-04-01T19:21:21.427218Z",
     "iopub.status.busy": "2023-04-01T19:21:21.426259Z",
     "iopub.status.idle": "2023-04-01T19:21:21.431925Z",
     "shell.execute_reply": "2023-04-01T19:21:21.430651Z"
    },
    "papermill": {
     "duration": 0.015953,
     "end_time": "2023-04-01T19:21:21.434288",
     "exception": false,
     "start_time": "2023-04-01T19:21:21.418335",
     "status": "completed"
    },
    "tags": []
   },
   "outputs": [],
   "source": [
    "X_test=x_test.iloc[:,:]"
   ]
  },
  {
   "cell_type": "code",
   "execution_count": 10,
   "id": "2f26f04b",
   "metadata": {
    "execution": {
     "iopub.execute_input": "2023-04-01T19:21:21.449829Z",
     "iopub.status.busy": "2023-04-01T19:21:21.449139Z",
     "iopub.status.idle": "2023-04-01T19:21:21.456090Z",
     "shell.execute_reply": "2023-04-01T19:21:21.454000Z"
    },
    "papermill": {
     "duration": 0.017804,
     "end_time": "2023-04-01T19:21:21.458707",
     "exception": false,
     "start_time": "2023-04-01T19:21:21.440903",
     "status": "completed"
    },
    "tags": []
   },
   "outputs": [
    {
     "name": "stdout",
     "output_type": "stream",
     "text": [
      "[[3 'male' 22.0 1 0 7.25]\n",
      " [1 'female' 38.0 1 0 71.2833]\n",
      " [3 'female' 26.0 0 0 7.925]\n",
      " ...\n",
      " [3 'female' nan 1 2 23.45]\n",
      " [1 'male' 26.0 0 0 30.0]\n",
      " [3 'male' 32.0 0 0 7.75]]\n"
     ]
    }
   ],
   "source": [
    "print(X)\n"
   ]
  },
  {
   "cell_type": "code",
   "execution_count": 11,
   "id": "efef3e06",
   "metadata": {
    "execution": {
     "iopub.execute_input": "2023-04-01T19:21:21.474483Z",
     "iopub.status.busy": "2023-04-01T19:21:21.473682Z",
     "iopub.status.idle": "2023-04-01T19:21:21.483185Z",
     "shell.execute_reply": "2023-04-01T19:21:21.480669Z"
    },
    "papermill": {
     "duration": 0.021924,
     "end_time": "2023-04-01T19:21:21.487444",
     "exception": false,
     "start_time": "2023-04-01T19:21:21.465520",
     "status": "completed"
    },
    "tags": []
   },
   "outputs": [
    {
     "name": "stdout",
     "output_type": "stream",
     "text": [
      "[0 1 1 1 0 0 0 0 1 1 1 1 0 0 0 1 0 1 0 1 0 1 1 1 0 1 0 0 1 0 0 1 1 0 0 0 1\n",
      " 0 0 1 0 0 0 1 1 0 0 1 0 0 0 0 1 1 0 1 1 0 1 0 0 1 0 0 0 1 1 0 1 0 0 0 0 0\n",
      " 1 0 0 0 1 1 0 1 1 0 1 1 0 0 1 0 0 0 0 0 0 0 0 1 1 0 0 0 0 0 0 0 1 1 0 1 0\n",
      " 0 0 0 0 0 0 0 0 0 0 0 0 1 0 1 0 1 1 0 0 0 0 1 0 0 1 0 0 0 0 1 1 0 0 0 1 0\n",
      " 0 0 0 1 0 0 0 0 1 0 0 0 0 1 0 0 0 1 1 0 0 0 0 0 1 0 0 0 0 0 0 0 0 0 0 1 1\n",
      " 0 1 1 0 0 1 0 1 1 1 1 0 0 1 0 0 0 0 0 1 0 0 1 1 1 0 1 0 0 0 1 1 0 1 0 1 0\n",
      " 0 0 1 0 1 0 0 0 1 0 0 1 0 0 0 1 0 0 0 1 0 0 0 0 0 1 1 0 0 0 0 0 0 1 1 1 1\n",
      " 1 0 1 0 0 0 0 0 1 1 1 0 1 1 0 1 1 0 0 0 1 0 0 0 1 0 0 1 0 1 1 1 1 0 0 0 0\n",
      " 0 0 1 1 1 1 0 1 0 1 1 1 0 1 1 1 0 0 0 1 1 0 1 1 0 0 1 1 0 1 0 1 1 1 1 0 0\n",
      " 0 1 0 0 1 1 0 1 1 0 0 0 1 1 1 1 0 0 0 0 0 0 0 1 0 1 1 0 0 0 0 0 0 1 1 1 1\n",
      " 1 0 0 0 0 1 1 0 0 0 1 1 0 1 0 0 0 1 0 1 1 1 0 1 1 0 0 0 0 1 1 0 0 0 0 0 0\n",
      " 1 0 0 0 0 1 0 1 0 1 1 0 0 0 0 0 0 0 0 1 1 0 1 1 1 1 0 0 1 0 1 0 0 1 0 0 1\n",
      " 1 1 1 1 1 1 0 0 0 1 0 1 0 1 1 0 1 0 0 0 0 0 0 0 0 1 0 0 1 1 0 0 0 0 0 1 0\n",
      " 0 0 1 1 0 1 0 0 1 0 0 0 0 0 0 1 0 0 0 0 0 0 0 1 0 1 1 0 1 1 0 1 1 0 0 1 0\n",
      " 1 0 1 0 0 1 0 0 1 0 0 0 1 0 0 1 0 1 0 1 0 1 1 0 0 1 0 0 1 1 0 1 1 0 0 1 1\n",
      " 0 1 0 1 1 0 0 0 0 0 0 0 0 0 1 1 1 1 1 0 0 1 1 0 1 1 1 0 0 0 1 0 1 0 0 0 1\n",
      " 0 0 0 0 1 0 0 1 1 0 0 0 1 0 0 1 1 1 0 0 1 0 0 1 0 0 1 0 0 1 1 0 0 0 0 1 0\n",
      " 0 1 0 1 0 0 1 0 0 0 0 0 1 0 1 1 1 0 1 0 1 0 1 0 1 0 0 0 0 0 0 1 0 0 0 1 0\n",
      " 0 0 0 1 1 0 0 1 0 0 0 1 0 1 0 1 0 0 0 0 0 0 0 1 1 1 1 0 0 0 0 1 0 0 1 1 0\n",
      " 0 0 0 1 1 1 1 1 0 1 0 0 0 1 1 0 0 1 0 0 0 1 0 1 1 0 0 1 0 0 0 0 0 0 1 0 0\n",
      " 1 0 1 0 1 0 0 1 0 0 1 1 0 0 1 1 0 0 0 1 0 0 1 1 0 1 0 0 0 0 0 0 0 0 1 0 0\n",
      " 1 0 1 1 1 0 0 0 0 1 0 1 0 0 0 0 0 0 0 1 1 0 0 0 1 1 1 1 0 0 0 0 1 0 0 0 0\n",
      " 0 0 0 0 0 0 1 1 0 1 0 0 0 1 1 1 1 1 0 0 0 1 0 0 1 1 0 0 1 0 0 0 0 0 0 1 0\n",
      " 0 0 1 0 1 1 1 1 0 0 0 1 0 0 1 1 0 0 1 0 1 0 0 1 1 0 0 0 1 1 0 0 0 0 0 0 1\n",
      " 0 1 0]\n"
     ]
    }
   ],
   "source": [
    "print(y)"
   ]
  },
  {
   "cell_type": "code",
   "execution_count": 12,
   "id": "187ad3da",
   "metadata": {
    "execution": {
     "iopub.execute_input": "2023-04-01T19:21:21.505366Z",
     "iopub.status.busy": "2023-04-01T19:21:21.504499Z",
     "iopub.status.idle": "2023-04-01T19:21:21.517608Z",
     "shell.execute_reply": "2023-04-01T19:21:21.515606Z"
    },
    "papermill": {
     "duration": 0.025112,
     "end_time": "2023-04-01T19:21:21.520502",
     "exception": false,
     "start_time": "2023-04-01T19:21:21.495390",
     "status": "completed"
    },
    "tags": []
   },
   "outputs": [
    {
     "name": "stdout",
     "output_type": "stream",
     "text": [
      "     Pclass     Sex   Age  SibSp  Parch      Fare\n",
      "0         3    male  34.5      0      0    7.8292\n",
      "1         3  female  47.0      1      0    7.0000\n",
      "2         2    male  62.0      0      0    9.6875\n",
      "3         3    male  27.0      0      0    8.6625\n",
      "4         3  female  22.0      1      1   12.2875\n",
      "..      ...     ...   ...    ...    ...       ...\n",
      "413       3    male   NaN      0      0    8.0500\n",
      "414       1  female  39.0      0      0  108.9000\n",
      "415       3    male  38.5      0      0    7.2500\n",
      "416       3    male   NaN      0      0    8.0500\n",
      "417       3    male   NaN      1      1   22.3583\n",
      "\n",
      "[418 rows x 6 columns]\n"
     ]
    }
   ],
   "source": [
    "print(X_test)"
   ]
  },
  {
   "cell_type": "code",
   "execution_count": 13,
   "id": "cde5e138",
   "metadata": {
    "execution": {
     "iopub.execute_input": "2023-04-01T19:21:21.537196Z",
     "iopub.status.busy": "2023-04-01T19:21:21.536803Z",
     "iopub.status.idle": "2023-04-01T19:21:22.641160Z",
     "shell.execute_reply": "2023-04-01T19:21:22.639922Z"
    },
    "papermill": {
     "duration": 1.116398,
     "end_time": "2023-04-01T19:21:22.644071",
     "exception": false,
     "start_time": "2023-04-01T19:21:21.527673",
     "status": "completed"
    },
    "tags": []
   },
   "outputs": [],
   "source": [
    "from sklearn.preprocessing import LabelEncoder\n",
    "le = LabelEncoder()\n",
    "X[:,1]= le.fit_transform(X[:,1])"
   ]
  },
  {
   "cell_type": "code",
   "execution_count": 14,
   "id": "6ee3d38b",
   "metadata": {
    "execution": {
     "iopub.execute_input": "2023-04-01T19:21:22.660794Z",
     "iopub.status.busy": "2023-04-01T19:21:22.659704Z",
     "iopub.status.idle": "2023-04-01T19:21:22.668756Z",
     "shell.execute_reply": "2023-04-01T19:21:22.667775Z"
    },
    "papermill": {
     "duration": 0.019881,
     "end_time": "2023-04-01T19:21:22.671079",
     "exception": false,
     "start_time": "2023-04-01T19:21:22.651198",
     "status": "completed"
    },
    "tags": []
   },
   "outputs": [],
   "source": [
    "\n",
    "X_test['Sex'] = le.fit_transform(X_test['Sex'])"
   ]
  },
  {
   "cell_type": "code",
   "execution_count": 15,
   "id": "9d6d90cf",
   "metadata": {
    "execution": {
     "iopub.execute_input": "2023-04-01T19:21:22.687653Z",
     "iopub.status.busy": "2023-04-01T19:21:22.686177Z",
     "iopub.status.idle": "2023-04-01T19:21:22.699351Z",
     "shell.execute_reply": "2023-04-01T19:21:22.697570Z"
    },
    "papermill": {
     "duration": 0.024233,
     "end_time": "2023-04-01T19:21:22.702172",
     "exception": false,
     "start_time": "2023-04-01T19:21:22.677939",
     "status": "completed"
    },
    "tags": []
   },
   "outputs": [
    {
     "name": "stdout",
     "output_type": "stream",
     "text": [
      "     Pclass  Sex   Age  SibSp  Parch      Fare\n",
      "0         3    1  34.5      0      0    7.8292\n",
      "1         3    0  47.0      1      0    7.0000\n",
      "2         2    1  62.0      0      0    9.6875\n",
      "3         3    1  27.0      0      0    8.6625\n",
      "4         3    0  22.0      1      1   12.2875\n",
      "..      ...  ...   ...    ...    ...       ...\n",
      "413       3    1   NaN      0      0    8.0500\n",
      "414       1    0  39.0      0      0  108.9000\n",
      "415       3    1  38.5      0      0    7.2500\n",
      "416       3    1   NaN      0      0    8.0500\n",
      "417       3    1   NaN      1      1   22.3583\n",
      "\n",
      "[418 rows x 6 columns]\n"
     ]
    }
   ],
   "source": [
    "print(X_test)"
   ]
  },
  {
   "cell_type": "code",
   "execution_count": 16,
   "id": "a7d6d378",
   "metadata": {
    "execution": {
     "iopub.execute_input": "2023-04-01T19:21:22.718656Z",
     "iopub.status.busy": "2023-04-01T19:21:22.717954Z",
     "iopub.status.idle": "2023-04-01T19:21:22.724429Z",
     "shell.execute_reply": "2023-04-01T19:21:22.722583Z"
    },
    "papermill": {
     "duration": 0.018395,
     "end_time": "2023-04-01T19:21:22.727505",
     "exception": false,
     "start_time": "2023-04-01T19:21:22.709110",
     "status": "completed"
    },
    "tags": []
   },
   "outputs": [
    {
     "name": "stdout",
     "output_type": "stream",
     "text": [
      "[[3 1 22.0 1 0 7.25]\n",
      " [1 0 38.0 1 0 71.2833]\n",
      " [3 0 26.0 0 0 7.925]\n",
      " ...\n",
      " [3 0 nan 1 2 23.45]\n",
      " [1 1 26.0 0 0 30.0]\n",
      " [3 1 32.0 0 0 7.75]]\n"
     ]
    }
   ],
   "source": [
    "print(X)"
   ]
  },
  {
   "cell_type": "code",
   "execution_count": 17,
   "id": "340205f3",
   "metadata": {
    "execution": {
     "iopub.execute_input": "2023-04-01T19:21:22.744642Z",
     "iopub.status.busy": "2023-04-01T19:21:22.744000Z",
     "iopub.status.idle": "2023-04-01T19:21:23.052696Z",
     "shell.execute_reply": "2023-04-01T19:21:23.051206Z"
    },
    "papermill": {
     "duration": 0.321474,
     "end_time": "2023-04-01T19:21:23.056290",
     "exception": false,
     "start_time": "2023-04-01T19:21:22.734816",
     "status": "completed"
    },
    "tags": []
   },
   "outputs": [],
   "source": [
    "from sklearn.impute import SimpleImputer\n",
    "imputer = SimpleImputer(missing_values=np.nan, strategy='mean')\n",
    "imputer.fit(X[:, 1:5])\n",
    "X[:, 1:5] = imputer.transform(X[:, 1:5])"
   ]
  },
  {
   "cell_type": "code",
   "execution_count": 18,
   "id": "02a1ae3a",
   "metadata": {
    "execution": {
     "iopub.execute_input": "2023-04-01T19:21:23.072956Z",
     "iopub.status.busy": "2023-04-01T19:21:23.072058Z",
     "iopub.status.idle": "2023-04-01T19:21:23.083439Z",
     "shell.execute_reply": "2023-04-01T19:21:23.082137Z"
    },
    "papermill": {
     "duration": 0.023053,
     "end_time": "2023-04-01T19:21:23.086516",
     "exception": false,
     "start_time": "2023-04-01T19:21:23.063463",
     "status": "completed"
    },
    "tags": []
   },
   "outputs": [],
   "source": [
    "imputer = SimpleImputer(missing_values=np.nan, strategy='mean')\n",
    "imputer.fit(X_test)\n",
    "X_test = imputer.transform(X_test)"
   ]
  },
  {
   "cell_type": "code",
   "execution_count": 19,
   "id": "d9a4e6f7",
   "metadata": {
    "execution": {
     "iopub.execute_input": "2023-04-01T19:21:23.103310Z",
     "iopub.status.busy": "2023-04-01T19:21:23.102909Z",
     "iopub.status.idle": "2023-04-01T19:21:23.143260Z",
     "shell.execute_reply": "2023-04-01T19:21:23.141766Z"
    },
    "papermill": {
     "duration": 0.052889,
     "end_time": "2023-04-01T19:21:23.146458",
     "exception": false,
     "start_time": "2023-04-01T19:21:23.093569",
     "status": "completed"
    },
    "tags": []
   },
   "outputs": [
    {
     "data": {
      "text/plain": [
       "LogisticRegression(random_state=0)"
      ]
     },
     "execution_count": 19,
     "metadata": {},
     "output_type": "execute_result"
    }
   ],
   "source": [
    "from sklearn.linear_model import LogisticRegression\n",
    "classifier = LogisticRegression(random_state = 0)\n",
    "classifier.fit(X, y)"
   ]
  },
  {
   "cell_type": "code",
   "execution_count": 20,
   "id": "836c53e7",
   "metadata": {
    "execution": {
     "iopub.execute_input": "2023-04-01T19:21:23.163871Z",
     "iopub.status.busy": "2023-04-01T19:21:23.163410Z",
     "iopub.status.idle": "2023-04-01T19:21:23.170682Z",
     "shell.execute_reply": "2023-04-01T19:21:23.169169Z"
    },
    "papermill": {
     "duration": 0.020143,
     "end_time": "2023-04-01T19:21:23.173777",
     "exception": false,
     "start_time": "2023-04-01T19:21:23.153634",
     "status": "completed"
    },
    "tags": []
   },
   "outputs": [
    {
     "name": "stdout",
     "output_type": "stream",
     "text": [
      "[[ 3.          1.         34.5         0.          0.          7.8292    ]\n",
      " [ 3.          0.         47.          1.          0.          7.        ]\n",
      " [ 2.          1.         62.          0.          0.          9.6875    ]\n",
      " ...\n",
      " [ 3.          1.         38.5         0.          0.          7.25      ]\n",
      " [ 3.          1.         30.27259036  0.          0.          8.05      ]\n",
      " [ 3.          1.         30.27259036  1.          1.         22.3583    ]]\n"
     ]
    }
   ],
   "source": [
    "print(X_test)"
   ]
  },
  {
   "cell_type": "code",
   "execution_count": 21,
   "id": "0f3b8559",
   "metadata": {
    "execution": {
     "iopub.execute_input": "2023-04-01T19:21:23.191400Z",
     "iopub.status.busy": "2023-04-01T19:21:23.190972Z",
     "iopub.status.idle": "2023-04-01T19:21:23.210201Z",
     "shell.execute_reply": "2023-04-01T19:21:23.209207Z"
    },
    "papermill": {
     "duration": 0.031422,
     "end_time": "2023-04-01T19:21:23.212911",
     "exception": false,
     "start_time": "2023-04-01T19:21:23.181489",
     "status": "completed"
    },
    "tags": []
   },
   "outputs": [],
   "source": [
    "y_pred=classifier.predict(X_test)\n",
    "submission = pd.DataFrame({\n",
    "        \"PassengerId\": pd.read_csv('/kaggle/input/titanic/test.csv')[\"PassengerId\"],\n",
    "        \"Survived\": y_pred\n",
    "    })\n",
    "\n",
    "submission.to_csv('submission.csv', index=False)"
   ]
  }
 ],
 "metadata": {
  "kernelspec": {
   "display_name": "Python 3",
   "language": "python",
   "name": "python3"
  },
  "language_info": {
   "codemirror_mode": {
    "name": "ipython",
    "version": 3
   },
   "file_extension": ".py",
   "mimetype": "text/x-python",
   "name": "python",
   "nbconvert_exporter": "python",
   "pygments_lexer": "ipython3",
   "version": "3.7.12"
  },
  "papermill": {
   "default_parameters": {},
   "duration": 14.166242,
   "end_time": "2023-04-01T19:21:24.046431",
   "environment_variables": {},
   "exception": null,
   "input_path": "__notebook__.ipynb",
   "output_path": "__notebook__.ipynb",
   "parameters": {},
   "start_time": "2023-04-01T19:21:09.880189",
   "version": "2.4.0"
  }
 },
 "nbformat": 4,
 "nbformat_minor": 5
}
